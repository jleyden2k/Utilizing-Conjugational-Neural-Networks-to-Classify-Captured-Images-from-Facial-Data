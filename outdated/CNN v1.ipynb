{
 "cells": [
  {
   "cell_type": "code",
   "execution_count": 1,
   "metadata": {},
   "outputs": [],
   "source": [
    "import torch\n",
    "from torchvision import datasets, transforms\n",
    "from torch.utils.data import DataLoader\n",
    "import torch.nn as nn\n",
    "import torch.nn.functional as F"
   ]
  },
  {
   "cell_type": "markdown",
   "metadata": {},
   "source": [
    "This imports PyTorch, alongside datasets, transforms, and DataLoader, which will help get the images to the CNN.\n",
    "Torch.nn is for the neural network layers, and torch.nn.functional is for activation functions."
   ]
  },
  {
   "cell_type": "code",
   "execution_count": 2,
   "metadata": {},
   "outputs": [],
   "source": [
    "transform = transforms.Compose([\n",
    "    transforms.Resize((128, 128)),\n",
    "    transforms.ToTensor(),\n",
    "])"
   ]
  },
  {
   "cell_type": "markdown",
   "metadata": {},
   "source": [
    "This will resize and make the images into a tensor for our CNN"
   ]
  },
  {
   "cell_type": "code",
   "execution_count": 3,
   "metadata": {},
   "outputs": [],
   "source": [
    "train_dataset = datasets.ImageFolder(root=\"MLDL_Data_Face-1/train\", transform=transform)\n",
    "train_loader = DataLoader(train_dataset, batch_size=32, shuffle=True)\n",
    "\n",
    "val_dataset = datasets.ImageFolder(root=\"MLDL_Data_Face-1/val\", transform=transform)\n",
    "val_loader = DataLoader(val_dataset, batch_size=32, shuffle=False)\n"
   ]
  },
  {
   "cell_type": "markdown",
   "metadata": {},
   "source": [
    "Here, we create our datasets and loaders using the imports. We have our training data set composed of subjects 1 and 2, for all three classes. We want to transform them as defined above, then make a batch size (32 is adjustable). Shuffling the training set helps with randomness, while shuffling the validation set would be detrimental."
   ]
  },
  {
   "cell_type": "code",
   "execution_count": null,
   "metadata": {},
   "outputs": [],
   "source": [
    "import torch\n",
    "import torch.nn as nn\n",
    "import torch.nn.functional as F\n",
    "\n",
    "class SimpleCNN(nn.Module):\n",
    "    def __init__(self):\n",
    "        super(SimpleCNN, self).__init__()\n",
    "        \n",
    "        # First convolutional layer\n",
    "        # Input channels: 3 (RGB image)\n",
    "        # Output channels: 32 (number of filters)\n",
    "        # Kernel size: 3x3\n",
    "        self.conv1 = nn.Conv2d(in_channels=3, out_channels=32, kernel_size=3, padding=1)\n",
    "        \n",
    "        # Second convolutional layer\n",
    "        # Input channels: 32 (from the first conv layer)\n",
    "        # Output channels: 64 (number of filters)\n",
    "        self.conv2 = nn.Conv2d(in_channels=32, out_channels=64, kernel_size=3, padding=1)\n",
    "        \n",
    "        # Third convolutional layer\n",
    "        # Input channels: 64 (from the second conv layer)\n",
    "        # Output channels: 128 (number of filters)\n",
    "        self.conv3 = nn.Conv2d(in_channels=64, out_channels=128, kernel_size=3, padding=1)\n",
    "        \n",
    "        # Fully connected layer (after flattening the output)\n",
    "        # The input size here will be calculated from the output of the last max pooling step\n",
    "        # After pooling, we have 128 channels of 16x16 size, so the total size is 128*16*16\n",
    "        self.fc1 = nn.Linear(128 * 16 * 16, 128)\n",
    "        \n",
    "        # Final output layer (3 classes)\n",
    "        self.fc2 = nn.Linear(128, 3)  # Output layer has 3 units (for 3 classes)\n",
    "        \n",
    "    def forward(self, x):\n",
    "        # Apply first convolution, followed by ReLU and MaxPooling\n",
    "        x = F.relu(self.conv1(x))  # Shape: (batch_size, 32, 128, 128)\n",
    "        x = F.max_pool2d(x, 2)  # Shape: (batch_size, 32, 64, 64)\n",
    "        \n",
    "        # Apply second convolution, followed by ReLU and MaxPooling\n",
    "        x = F.relu(self.conv2(x))  # Shape: (batch_size, 64, 64, 64)\n",
    "        x = F.max_pool2d(x, 2)  # Shape: (batch_size, 64, 32, 32)\n",
    "        \n",
    "        # Apply third convolution, followed by ReLU and MaxPooling\n",
    "        x = F.relu(self.conv3(x))  # Shape: (batch_size, 128, 32, 32)\n",
    "        x = F.max_pool2d(x, 2)  # Shape: (batch_size, 128, 16, 16)\n",
    "        \n",
    "        # Flatten the output for the fully connected layer\n",
    "        x = x.view(x.size(0), -1)  # Flatten to shape (batch_size, 128*16*16)\n",
    "        \n",
    "        # Apply fully connected layer\n",
    "        x = F.relu(self.fc1(x))  # Shape: (batch_size, 128)\n",
    "        \n",
    "        # Apply final output layer with softmax for classification\n",
    "        x = self.fc2(x)  # Shape: (batch_size, 3)\n",
    "        \n",
    "        return x\n",
    "\n",
    "# Example of creating the model and printing it\n",
    "model = SimpleCNN()\n",
    "print(model)\n",
    "\n"
   ]
  },
  {
   "cell_type": "code",
   "execution_count": 5,
   "metadata": {},
   "outputs": [],
   "source": [
    "import torch.optim as optim\n",
    "\n",
    "# Loss function for multi-class classification\n",
    "criterion = nn.CrossEntropyLoss()  # This computes softmax internally\n",
    "optimizer = optim.Adam(model.parameters(), lr=0.0001)  # Adam optimizer\n"
   ]
  },
  {
   "cell_type": "code",
   "execution_count": null,
   "metadata": {},
   "outputs": [
    {
     "name": "stdout",
     "output_type": "stream",
     "text": [
      "Epoch [1/10], Loss: 0.5788\n",
      "Epoch [2/10], Loss: 0.1444\n",
      "Epoch [3/10], Loss: 0.0704\n",
      "Epoch [4/10], Loss: 0.0413\n",
      "Epoch [5/10], Loss: 0.0252\n",
      "Epoch [6/10], Loss: 0.0191\n",
      "Epoch [7/10], Loss: 0.0108\n",
      "Epoch [8/10], Loss: 0.0136\n",
      "Epoch [9/10], Loss: 0.0075\n",
      "Epoch [10/10], Loss: 0.0032\n"
     ]
    }
   ],
   "source": [
    "num_epochs = 5  # The number of times to loop through the dataset\n",
    "\n",
    "for epoch in range(num_epochs):  # Loop over each epoch\n",
    "    model.train()  # Set the model to training mode\n",
    "    running_loss = 0.0  # This will track the loss during the epoch\n",
    "\n",
    "    # Loop through the training data in batches\n",
    "    for inputs, labels in train_loader:\n",
    "        optimizer.zero_grad()  # Zero the gradients before each backward pass\n",
    "\n",
    "        # Forward pass: Get model predictions\n",
    "        outputs = model(inputs)\n",
    "\n",
    "        # Calculate the loss\n",
    "        loss = criterion(outputs, labels)\n",
    "\n",
    "        # Backward pass: Compute gradients\n",
    "        loss.backward()\n",
    "\n",
    "        # Update the model parameters using the optimizer\n",
    "        optimizer.step()\n",
    "\n",
    "        running_loss += loss.item()  # Add this batch's loss to the total loss\n",
    "\n",
    "    avg_loss = running_loss / len(train_loader)  # Average loss for this epoch\n",
    "    print(f\"Epoch [{epoch+1}/{num_epochs}], Loss: {avg_loss:.4f}\")\n"
   ]
  },
  {
   "cell_type": "code",
   "execution_count": 11,
   "metadata": {},
   "outputs": [
    {
     "name": "stdout",
     "output_type": "stream",
     "text": [
      "Validation Accuracy: 7.62%\n",
      "133\n",
      "1745\n"
     ]
    }
   ],
   "source": [
    "model.eval()  # Set the model to evaluation mode\n",
    "correct = 0\n",
    "total = 0\n",
    "\n",
    "with torch.no_grad():  # Disable gradient calculation for validation\n",
    "    for inputs, labels in val_loader:\n",
    "        outputs = model(inputs)  # Get model predictions\n",
    "        _, predicted = torch.max(outputs, 1)  # Get the predicted class\n",
    "        total += labels.size(0)  # Count the total number of samples\n",
    "        correct += (predicted == labels).sum().item()  # Count correct predictions\n",
    "\n",
    "accuracy = correct / total\n",
    "print(f\"Validation Accuracy: {accuracy * 100:.2f}%\")\n",
    "print(correct)\n",
    "print(total)\n"
   ]
  },
  {
   "cell_type": "markdown",
   "metadata": {},
   "source": [
    "https://arxiv.org/pdf/1902.03524\n",
    "\n",
    "\n",
    "https://citeseerx.ist.psu.edu/document?repid=rep1&type=pdf&doi=ffe8cc49b14ede3807b91b4fa5217daf8515fdb2\n",
    "\n",
    "\n",
    "https://ieeexplore.ieee.org/stamp/stamp.jsp?arnumber=8053088casa_token=eNqo9STTYNwAAAAA:y28zM5DEUi6EWK7AbP07CDo6VEQjvsM-k_S5tI2XrFo9GwI_wS8D_gKDZKHCpU-J6ftcr00WCA&tag=1\n"
   ]
  }
 ],
 "metadata": {
  "kernelspec": {
   "display_name": "Python 3",
   "language": "python",
   "name": "python3"
  },
  "language_info": {
   "codemirror_mode": {
    "name": "ipython",
    "version": 3
   },
   "file_extension": ".py",
   "mimetype": "text/x-python",
   "name": "python",
   "nbconvert_exporter": "python",
   "pygments_lexer": "ipython3",
   "version": "3.12.4"
  }
 },
 "nbformat": 4,
 "nbformat_minor": 2
}
