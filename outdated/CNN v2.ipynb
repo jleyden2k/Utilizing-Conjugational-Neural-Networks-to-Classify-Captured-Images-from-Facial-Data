{
 "cells": [
  {
   "cell_type": "code",
   "execution_count": 21,
   "metadata": {},
   "outputs": [],
   "source": [
    "import torch\n",
    "from torchvision import datasets, transforms\n",
    "from torch.utils.data import DataLoader\n",
    "import torch.nn as nn\n",
    "import torch.nn.functional as F\n",
    "import torch.optim as optim"
   ]
  },
  {
   "cell_type": "markdown",
   "metadata": {},
   "source": [
    "This imports PyTorch, alongside datasets, transforms, and DataLoader, which will help get the images to the CNN.\n",
    "Torch.nn is for the neural network layers, and torch.nn.functional is for activation functions."
   ]
  },
  {
   "cell_type": "code",
   "execution_count": 22,
   "metadata": {},
   "outputs": [],
   "source": [
    "transform = transforms.Compose([\n",
    "    transforms.Resize((128, 128)),\n",
    "    transforms.RandomHorizontalFlip(p=0.5),\n",
    "    transforms.RandomRotation(15),\n",
    "    transforms.ColorJitter(brightness=0.2, contrast=0.2),\n",
    "    transforms.ToTensor(),\n",
    "    transforms.Normalize(mean=[0.5, 0.5, 0.5], std=[0.5, 0.5, 0.5])\n",
    "])\n",
    "\n"
   ]
  },
  {
   "cell_type": "markdown",
   "metadata": {},
   "source": [
    "This will resize and make the images into a tensor for our CNN"
   ]
  },
  {
   "cell_type": "code",
   "execution_count": 23,
   "metadata": {},
   "outputs": [],
   "source": [
    "train_dataset = datasets.ImageFolder(root=\"MLDL_Data_Face-1/train\", transform=transform)\n",
    "train_loader = DataLoader(train_dataset, batch_size=32, shuffle=True)\n",
    "\n",
    "val_dataset = datasets.ImageFolder(root=\"MLDL_Data_Face-1/val\", transform=transform)\n",
    "val_loader = DataLoader(val_dataset, batch_size=32, shuffle=False)\n"
   ]
  },
  {
   "cell_type": "markdown",
   "metadata": {},
   "source": [
    "Here, we create our datasets and loaders using the imports. We have our training data set composed of subjects 1 and 2, for all three classes. We want to transform them as defined above, then make a batch size (32 is adjustable). Shuffling the training set helps with randomness, while shuffling the validation set would be detrimental."
   ]
  },
  {
   "cell_type": "code",
   "execution_count": 24,
   "metadata": {},
   "outputs": [
    {
     "name": "stdout",
     "output_type": "stream",
     "text": [
      "SimpleCNN(\n",
      "  (conv1): Conv2d(3, 32, kernel_size=(3, 3), stride=(1, 1), padding=(1, 1))\n",
      "  (conv2): Conv2d(32, 64, kernel_size=(3, 3), stride=(1, 1), padding=(1, 1))\n",
      "  (conv3): Conv2d(64, 128, kernel_size=(3, 3), stride=(1, 1), padding=(1, 1))\n",
      "  (fc1): Linear(in_features=32768, out_features=128, bias=True)\n",
      "  (fc2): Linear(in_features=128, out_features=3, bias=True)\n",
      "  (bn1): BatchNorm2d(32, eps=1e-05, momentum=0.1, affine=True, track_running_stats=True)\n",
      "  (bn2): BatchNorm2d(64, eps=1e-05, momentum=0.1, affine=True, track_running_stats=True)\n",
      "  (bn3): BatchNorm2d(128, eps=1e-05, momentum=0.1, affine=True, track_running_stats=True)\n",
      ")\n"
     ]
    }
   ],
   "source": [
    "import torch\n",
    "import torch.nn as nn\n",
    "import torch.nn.functional as F\n",
    "\n",
    "class SimpleCNN(nn.Module):\n",
    "    def __init__(self):\n",
    "        super(SimpleCNN, self).__init__()\n",
    "        self.conv1 = nn.Conv2d(in_channels=3, out_channels=32, kernel_size=3, padding=1)\n",
    "        self.conv2 = nn.Conv2d(in_channels=32, out_channels=64, kernel_size=3, padding=1)\n",
    "        self.conv3 = nn.Conv2d(in_channels=64, out_channels=128, kernel_size=3, padding=1)\n",
    "        self.fc1 = nn.Linear(128 * 16 * 16, 128)\n",
    "        self.fc2 = nn.Linear(128, 3)\n",
    "        self.bn1 = nn.BatchNorm2d(32)\n",
    "        self.bn2 = nn.BatchNorm2d(64)\n",
    "        self.bn3 = nn.BatchNorm2d(128)\n",
    "\n",
    "        \n",
    "    def forward(self, x):\n",
    "        x = F.relu(self.bn1(self.conv1(x)))\n",
    "        x = F.max_pool2d(x, 2)\n",
    "        x = F.relu(self.bn2(self.conv2(x)))\n",
    "        x = F.max_pool2d(x, 2)\n",
    "        x = F.relu(self.bn3(self.conv3(x)))\n",
    "        x = F.max_pool2d(x, 2)\n",
    "        x = x.view(x.size(0), -1)\n",
    "        x = F.relu(self.fc1(x))\n",
    "        x = self.fc2(x)\n",
    "        return x\n",
    "    \n",
    "model = SimpleCNN()\n",
    "print(model)"
   ]
  },
  {
   "cell_type": "code",
   "execution_count": 25,
   "metadata": {},
   "outputs": [],
   "source": [
    "criterion = nn.CrossEntropyLoss()\n",
    "optimizer = optim.Adam(model.parameters(), lr=0.001)"
   ]
  },
  {
   "cell_type": "code",
   "execution_count": 26,
   "metadata": {},
   "outputs": [
    {
     "name": "stdout",
     "output_type": "stream",
     "text": [
      "Epoch [1/30], Loss: 0.8035\n",
      "Epoch [2/30], Loss: 0.3031\n",
      "Epoch [3/30], Loss: 0.1702\n",
      "Epoch [4/30], Loss: 0.1317\n",
      "Epoch [5/30], Loss: 0.1040\n",
      "Epoch [6/30], Loss: 0.0813\n",
      "Epoch [7/30], Loss: 0.0747\n",
      "Epoch [8/30], Loss: 0.0624\n",
      "Epoch [9/30], Loss: 0.0608\n",
      "Epoch [10/30], Loss: 0.0456\n",
      "Epoch [11/30], Loss: 0.0495\n",
      "Epoch [12/30], Loss: 0.0444\n",
      "Epoch [13/30], Loss: 0.0438\n",
      "Epoch [14/30], Loss: 0.0328\n",
      "Epoch [15/30], Loss: 0.0288\n",
      "Epoch [16/30], Loss: 0.0417\n",
      "Epoch [17/30], Loss: 0.0229\n",
      "Epoch [18/30], Loss: 0.0244\n",
      "Epoch [19/30], Loss: 0.0273\n",
      "Epoch [20/30], Loss: 0.0251\n",
      "Epoch [21/30], Loss: 0.0178\n",
      "Epoch [22/30], Loss: 0.0248\n",
      "Epoch [23/30], Loss: 0.0170\n",
      "Epoch [24/30], Loss: 0.0167\n",
      "Epoch [25/30], Loss: 0.0199\n",
      "Epoch [26/30], Loss: 0.0153\n",
      "Epoch [27/30], Loss: 0.0158\n",
      "Epoch [28/30], Loss: 0.0184\n",
      "Epoch [29/30], Loss: 0.0147\n",
      "Epoch [30/30], Loss: 0.0139\n"
     ]
    }
   ],
   "source": [
    "num_epochs = 30\n",
    "\n",
    "for epoch in range(num_epochs):\n",
    "    model.train()\n",
    "    running_loss = 0.0\n",
    "\n",
    "    for inputs, labels in train_loader:\n",
    "        optimizer.zero_grad()\n",
    "        outputs = model(inputs)\n",
    "        loss = criterion(outputs, labels)\n",
    "        loss.backward()\n",
    "        optimizer.step()\n",
    "        running_loss += loss.item()\n",
    "\n",
    "    avg_loss = running_loss / len(train_loader)\n",
    "    print(f\"Epoch [{epoch+1}/{num_epochs}], Loss: {avg_loss:.4f}\")"
   ]
  },
  {
   "cell_type": "code",
   "execution_count": 27,
   "metadata": {},
   "outputs": [
    {
     "name": "stdout",
     "output_type": "stream",
     "text": [
      "Validation Accuracy after Epoch [30/30]: 8.14%\n",
      "Validation Accuracy: 8.14%\n",
      "142\n",
      "1745\n"
     ]
    }
   ],
   "source": [
    "model.eval()\n",
    "correct = 0\n",
    "total = 0\n",
    "\n",
    "with torch.no_grad():\n",
    "    for inputs, labels in val_loader:\n",
    "        outputs = model(inputs)\n",
    "        _, predicted = torch.max(outputs, 1)\n",
    "        total += labels.size(0)\n",
    "        correct += (predicted == labels).sum().item()\n",
    "\n",
    "accuracy = correct / total\n",
    "print(f\"Validation Accuracy after Epoch [{epoch+1}/{num_epochs}]: {accuracy * 100:.2f}%\")\n",
    "print(f\"Validation Accuracy: {accuracy * 100:.2f}%\")\n",
    "print(correct)\n",
    "print(total)\n"
   ]
  },
  {
   "cell_type": "markdown",
   "metadata": {},
   "source": [
    "https://arxiv.org/pdf/1902.03524\n",
    "\n",
    "\n",
    "https://citeseerx.ist.psu.edu/document?repid=rep1&type=pdf&doi=ffe8cc49b14ede3807b91b4fa5217daf8515fdb2\n",
    "\n",
    "\n",
    "https://ieeexplore.ieee.org/stamp/stamp.jsp?arnumber=8053088casa_token=eNqo9STTYNwAAAAA:y28zM5DEUi6EWK7AbP07CDo6VEQjvsM-k_S5tI2XrFo9GwI_wS8D_gKDZKHCpU-J6ftcr00WCA&tag=1\n"
   ]
  },
  {
   "cell_type": "markdown",
   "metadata": {},
   "source": [
    "Trial 1 - LR: .001, Epochs: 5, Accuracy: 2.06% - Unoptimized\n",
    "\n",
    "Trial 2 - LR: .001, Epochs: 5, Accuracy: 2.64% - Added normalization and augmentation\n",
    "\n",
    "Trial 3 - LR: .001, Epochs: 20, Accuracy: 31.86% - Upped the Epochs\n",
    "\n",
    "Trial 3 - LR: .001, Epochs: 30, Accuracy: % - Upped the Epochs"
   ]
  }
 ],
 "metadata": {
  "kernelspec": {
   "display_name": "Python 3",
   "language": "python",
   "name": "python3"
  },
  "language_info": {
   "codemirror_mode": {
    "name": "ipython",
    "version": 3
   },
   "file_extension": ".py",
   "mimetype": "text/x-python",
   "name": "python",
   "nbconvert_exporter": "python",
   "pygments_lexer": "ipython3",
   "version": "3.12.4"
  }
 },
 "nbformat": 4,
 "nbformat_minor": 2
}
